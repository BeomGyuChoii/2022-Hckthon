{
 "cells": [
  {
   "cell_type": "code",
   "execution_count": 1,
   "metadata": {},
   "outputs": [],
   "source": [
    "from qiskit_ionq import IonQProvider, ionq_job\n",
    "ionq_provider = IonQProvider(\"mycsEhnoIgARQdch53Zm7KJUePwFD0Wr\")\n",
    "from qiskit import QuantumCircuit, QuantumRegister, ClassicalRegister\n",
    "from qiskit.tools.visualization import plot_histogram, array_to_latex\n",
    "from qiskit.visualization import plot_state_city, plot_bloch_multivector\n",
    "from qiskit.quantum_info import Statevector, DensityMatrix, Operator\n",
    "from matplotlib import pyplot as plt\n",
    "import numpy as np\n",
    "import time\n",
    "from qiskit.circuit import Parameter\n"
   ]
  },
  {
   "cell_type": "code",
   "execution_count": 2,
   "metadata": {},
   "outputs": [],
   "source": [
    "sim_backend = ionq_provider.get_backend('ionq_simulator')\n",
    "\n",
    "qpu_backend = ionq_provider.get_backend('ionq_qpu')"
   ]
  },
  {
   "cell_type": "code",
   "execution_count": 1283,
   "metadata": {},
   "outputs": [],
   "source": [
    "s=1 #Alice\n",
    "t=1 #Bob"
   ]
  },
  {
   "cell_type": "code",
   "execution_count": 1284,
   "metadata": {},
   "outputs": [
    {
     "data": {
      "image/png": "[encoded data removed]",
      "text/plain": [
       "<Figure size 568.197x325.08 with 1 Axes>"
      ]
     },
     "execution_count": 1284,
     "metadata": {},
     "output_type": "execute_result"
    }
   ],
   "source": [
    "qr = QuantumRegister(4,'q')\n",
    "cr = ClassicalRegister(4,'c')\n",
    "qc = QuantumCircuit(qr,cr)\n",
    "\n",
    "qc.h(0)\n",
    "qc.cx(0,2)\n",
    "\n",
    "qc.h(1)\n",
    "qc.cx(1,3)\n",
    "qc.barrier()\n",
    "\n",
    "if s==1:\n",
    "    qc.measure(1,0)\n",
    "    qc.measure(0,1)\n",
    "\n",
    "if s==2:\n",
    "    qc.h(0)\n",
    "    qc.h(1)\n",
    "    qc.measure(0,0)\n",
    "    qc.measure(1,1)\n",
    "\n",
    "if s==3:\n",
    "    qc.h(0)\n",
    "    qc.cx(0,1)\n",
    "    qc.h(0)\n",
    "    qc.measure(1,0)\n",
    "    qc.measure(0,1)\n",
    "\n",
    "if t==1:\n",
    "    qc.h(2)\n",
    "    qc.measure(3,2)\n",
    "    qc.measure(2,3)\n",
    "\n",
    "if t==2:\n",
    "    qc.h(3)\n",
    "    qc.measure(2,2)\n",
    "    qc.measure(3,3)\n",
    "\n",
    "if t==3:\n",
    "    qc.cx(2,3)\n",
    "    qc.h(2)\n",
    "    qc.measure(3,2)\n",
    "    qc.measure(2,3)\n",
    "\n",
    "\n",
    "qc.draw(output='mpl')\n"
   ]
  },
  {
   "cell_type": "code",
   "execution_count": 1251,
   "metadata": {},
   "outputs": [],
   "source": [
    "s=1 #Alice\n",
    "t=1 #Bob"
   ]
  },
  {
   "cell_type": "code",
   "execution_count": 1252,
   "metadata": {},
   "outputs": [],
   "source": [
    "f = open(\"C:/Users/cbk92/Desktop/해커톤/ID_2.2_11.txt\",'r')\n",
    "ID_after=f.readlines()\n",
    "\n",
    "\n",
    "\n",
    "f.close()"
   ]
  },
  {
   "cell_type": "code",
   "execution_count": 1253,
   "metadata": {},
   "outputs": [],
   "source": [
    "\n",
    "ID_after[0] = ID_after[0].strip('\\n')"
   ]
  },
  {
   "cell_type": "code",
   "execution_count": 1254,
   "metadata": {},
   "outputs": [],
   "source": [
    "arr_keys=[]\n",
    "job_ret = qpu_backend.retrieve_job(ID_after[0])\n",
    "probs = job_ret.get_probabilities()\n",
    "all_keys=list(probs.keys())\n",
    "arr_keys.append(all_keys)"
   ]
  },
  {
   "cell_type": "code",
   "execution_count": 1255,
   "metadata": {},
   "outputs": [],
   "source": [
    "Alice=[]\n",
    "Bob=[]\n",
    "for i in range(len(all_keys)):\n",
    "        value1=all_keys[i][3]\n",
    "        value2=all_keys[i][2]\n",
    "        value3=value1+value2\n",
    "        value4=int(value1)^int(value2)\n",
    "        value5=value3+str(value4)\n",
    "        Alice.append(value5)\n",
    "        value1=all_keys[i][1]\n",
    "        value2=all_keys[i][0]\n",
    "        value3=value1+value2\n",
    "        value4=int(not(int(value1)^int(value2)))\n",
    "        value5=value3+str(value4)\n",
    "        Bob.append(value5) "
   ]
  },
  {
   "cell_type": "code",
   "execution_count": 1256,
   "metadata": {},
   "outputs": [
    {
     "name": "stdout",
     "output_type": "stream",
     "text": [
      "False\n"
     ]
    }
   ],
   "source": [
    "check=0\n",
    "flist=[]\n",
    "for i in range(len(all_keys)):\n",
    "    if s==3:\n",
    "        if t==3:\n",
    "            if Alice[i][t-1]!=Bob[i][s-1]:\n",
    "                check=check+1\n",
    "                ftot=[Alice[i],Bob[i]]\n",
    "                flist.append(ftot)\n",
    "            else:\n",
    "                check=check\n",
    "\n",
    "        else:\n",
    "            if Alice[i][t-1]!=Bob[i][s-1]:\n",
    "                check=check\n",
    "                \n",
    "            else:\n",
    "                check=check+1\n",
    "                ftot=[Alice[i],Bob[i]]\n",
    "                flist.append(ftot)\n",
    "        \n",
    "    else:\n",
    "        if Alice[i][t-1]==Bob[i][s-1]:\n",
    "            check=check\n",
    "        else:\n",
    "            check=check+1\n",
    "            ftot=[Alice[i],Bob[i]]\n",
    "            flist.append(ftot)\n",
    "\n",
    "if check==0:\n",
    "    print(\"True\")\n",
    "else:\n",
    "    print(\"False\")"
   ]
  },
  {
   "cell_type": "code",
   "execution_count": 1257,
   "metadata": {},
   "outputs": [],
   "source": [
    "for i in range(len(flist)):\n",
    "    for j in range(2):\n",
    "        flist[i][j]=flist[i][j][0:2]"
   ]
  },
  {
   "cell_type": "code",
   "execution_count": 1258,
   "metadata": {},
   "outputs": [],
   "source": [
    "for i in range(len(flist)):\n",
    "    for j in range(2):\n",
    "        n1=flist[i][j][0]\n",
    "        n2=flist[i][j][1]\n",
    "        flist[i][j]=n2+n1"
   ]
  },
  {
   "cell_type": "code",
   "execution_count": 1259,
   "metadata": {},
   "outputs": [],
   "source": [
    "fflist=[]\n",
    "for i in range(len(flist)):\n",
    "    n1=flist[i][0]\n",
    "    n2=flist[i][1]\n",
    "    fflist.append(n2+n1)"
   ]
  },
  {
   "cell_type": "code",
   "execution_count": 1260,
   "metadata": {},
   "outputs": [
    {
     "data": {
      "text/plain": [
       "0.02734375"
      ]
     },
     "execution_count": 1260,
     "metadata": {},
     "output_type": "execute_result"
    }
   ],
   "source": [
    "err_prob = 0\n",
    "for i in range(len(flist)):\n",
    "    err_prob += probs.get(fflist[i])\n",
    "err_prob"
   ]
  },
  {
   "cell_type": "code",
   "execution_count": 1162,
   "metadata": {},
   "outputs": [],
   "source": [
    "job = sim_backend.run(qc,shots = 1024)"
   ]
  },
  {
   "cell_type": "code",
   "execution_count": 1163,
   "metadata": {},
   "outputs": [],
   "source": [
    "k=job.get_probabilities()"
   ]
  },
  {
   "cell_type": "code",
   "execution_count": 1021,
   "metadata": {},
   "outputs": [],
   "source": [
    "b=list(k.keys())"
   ]
  },
  {
   "cell_type": "code",
   "execution_count": 1022,
   "metadata": {},
   "outputs": [],
   "source": [
    "Alice=[]\n",
    "Bob=[]\n",
    "for i in range(8):\n",
    "        value1=b[i][3]\n",
    "        value2=b[i][2]\n",
    "        value3=value1+value2\n",
    "        value4=int(value1)^int(value2)\n",
    "        value5=value3+str(value4)\n",
    "        Alice.append(value5)\n",
    "        value1=b[i][1]\n",
    "        value2=b[i][0]\n",
    "        value3=value1+value2\n",
    "        value4=int(not(int(value1)^int(value2)))\n",
    "        value5=value3+str(value4)\n",
    "        Bob.append(value5)                \n"
   ]
  },
  {
   "cell_type": "code",
   "execution_count": 1023,
   "metadata": {},
   "outputs": [
    {
     "name": "stdout",
     "output_type": "stream",
     "text": [
      "True\n"
     ]
    }
   ],
   "source": [
    "check=0\n",
    "for i in range(8):\n",
    "    v0=int(Alice[i][0])\n",
    "    v1=int(Alice[i][1])\n",
    "    v2=int(Alice[i][2])\n",
    "    if v0+v1+v2==0 or v0+v1+v2==2:\n",
    "        check=check\n",
    "    else:\n",
    "        check=check+1\n",
    "if check==0:\n",
    "    print(\"True\")\n",
    "else:\n",
    "    print(\"False\")    \n",
    "\n",
    "\n",
    "\n"
   ]
  },
  {
   "cell_type": "code",
   "execution_count": 1024,
   "metadata": {},
   "outputs": [
    {
     "name": "stdout",
     "output_type": "stream",
     "text": [
      "True\n"
     ]
    }
   ],
   "source": [
    "check=0\n",
    "for i in range(8):\n",
    "    v0=int(Bob[i][0])\n",
    "    v1=int(Bob[i][1])\n",
    "    v2=int(Bob[i][2])\n",
    "    if v0+v1+v2==1 or v0+v1+v2==3:\n",
    "        check=check\n",
    "    else:\n",
    "        check=check+1\n",
    "if check==0:\n",
    "    print(\"True\")\n",
    "else:\n",
    "    print(\"False\")    \n"
   ]
  },
  {
   "cell_type": "code",
   "execution_count": 1026,
   "metadata": {},
   "outputs": [],
   "source": [
    "tlist=[]"
   ]
  },
  {
   "cell_type": "code",
   "execution_count": 1027,
   "metadata": {},
   "outputs": [
    {
     "name": "stdout",
     "output_type": "stream",
     "text": [
      "True\n"
     ]
    }
   ],
   "source": [
    "check=0\n",
    "for i in range(8):\n",
    "    if s==3:\n",
    "        if t==3:\n",
    "            if Alice[i][t-1]!=Bob[i][s-1]:\n",
    "                check=check+1\n",
    "            else:\n",
    "                check=check\n",
    "                tlist.append([Alice[i],Bob[i]])\n",
    "\n",
    "        else:\n",
    "            if Alice[i][t-1]!=Bob[i][s-1]:\n",
    "                check=check\n",
    "                tlist.append([Alice[i],Bob[i]])\n",
    "            else:\n",
    "                check=check+1\n",
    "        \n",
    "    else:\n",
    "        if Alice[i][t-1]==Bob[i][s-1]:\n",
    "            check=check\n",
    "            tlist.append([Alice[i],Bob[i]])\n",
    "        else:\n",
    "            check=check+1\n",
    "\n",
    "if check==0:\n",
    "    print(\"True\")\n",
    "else:\n",
    "    print(\"False\")\n"
   ]
  },
  {
   "cell_type": "code",
   "execution_count": 1029,
   "metadata": {},
   "outputs": [],
   "source": [
    "for i in range(len(tlist)):\n",
    "    for j in range(2):\n",
    "        tlist[i][j]=tlist[i][j][0:2]"
   ]
  },
  {
   "cell_type": "code",
   "execution_count": 1282,
   "metadata": {},
   "outputs": [
    {
     "data": {
      "image/png": "[encoded data removed]",
      "text/plain": [
       "<Figure size 432x288 with 2 Axes>"
      ]
     },
     "metadata": {
      "needs_background": "light"
     },
     "output_type": "display_data"
    }
   ],
   "source": [
    "y=[[2.73,2.25,11.43],[3.02,3.51,11.43],[8.20,9.37,10.02]]\n",
    "plt.imshow(y,cmap='GnBu')\n",
    "plt.xticks([0,1,2],labels=['Column 1','Column 2','Column 3'])\n",
    "plt.yticks([0,1,2],labels=['Row 1','Row 2','Row 3'])\n",
    "cbar = plt.colorbar()\n",
    "cbar.set_label('Probability that shared vertex value is different',size=15)\n",
    "plt.clim(2,12)"
   ]
  },
  {
   "cell_type": "code",
   "execution_count": null,
   "metadata": {},
   "outputs": [],
   "source": []
  }
 ],
 "metadata": {
  "interpreter": {
   "hash": "c109c2ac43b1b69b107dfaa34f5434c675aaffc4e67542044f0f5a7f8882fbed"
  },
  "kernelspec": {
   "display_name": "Python 3.9.12 ('IONQ')",
   "language": "python",
   "name": "python3"
  },
  "language_info": {
   "codemirror_mode": {
    "name": "ipython",
    "version": 3
   },
   "file_extension": ".py",
   "mimetype": "text/x-python",
   "name": "python",
   "nbconvert_exporter": "python",
   "pygments_lexer": "ipython3",
   "version": "3.9.12"
  },
  "orig_nbformat": 4
 },
 "nbformat": 4,
 "nbformat_minor": 2
}
